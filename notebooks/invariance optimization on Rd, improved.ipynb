{
 "cells": [
  {
   "cell_type": "code",
   "execution_count": 3,
   "metadata": {},
   "outputs": [],
   "source": [
    "from IPython.core.interactiveshell import InteractiveShell\n",
    "InteractiveShell.ast_node_interactivity = \"all\""
   ]
  },
  {
   "cell_type": "code",
   "execution_count": 4,
   "metadata": {},
   "outputs": [],
   "source": [
    "import torch\n",
    "import torch.nn as nn\n",
    "import torch.nn.functional as F\n",
    "\n",
    "import gpytorch\n",
    "from gpytorch.kernels import MaternKernel, ScaleKernel, \\\n",
    "RBFKernel, CosineKernel\n",
    "from gpytorch.constraints import Positive\n",
    "\n",
    "import matplotlib.pyplot as plt\n",
    "import numpy as np"
   ]
  },
  {
   "cell_type": "markdown",
   "metadata": {},
   "source": [
    "## Note: \n",
    "Define $\\sigma: \\mathbb{R} \\rightarrow (0, \\infty)$ by $$\\sigma(t) = \\frac{e^t}{1+e^t}$$"
   ]
  },
  {
   "cell_type": "code",
   "execution_count": 5,
   "metadata": {},
   "outputs": [],
   "source": [
    "sigmoid = nn.Sigmoid()"
   ]
  },
  {
   "cell_type": "markdown",
   "metadata": {},
   "source": [
    "## **Example 1:** \n",
    "Let $\\theta \\in \\mathbb{R}^d$. For $j \\in \\{1, \\ldots, n\\}$, suppose that $x_j \\overset{\\text{iid}}{\\sim} \\text{Ber}(\\sigma(\\theta^T\\theta)) $ "
   ]
  },
  {
   "cell_type": "code",
   "execution_count": 6,
   "metadata": {},
   "outputs": [],
   "source": [
    "# log-likelihood:\n",
    "\n",
    "# input:\n",
    "    #theta: px1 tensor of parameters \n",
    "    #x: nx1 tensor of binary data\n",
    "    \n",
    "# output:\n",
    "    # nll_val: value of negative log likelihood for data x and params theta\n",
    "        \n",
    "def neg_avg_log_like(theta, x):\n",
    "    p = sigmoid(torch.matmul(theta.t(), theta))\n",
    "    nall = -torch.mean(x*torch.log(p) + (1-x)*torch.log(1-p))\n",
    "    #nall = -torch.mean(x*torch.log(p) + (1-x)*torch.log(1-p))\n",
    "    \n",
    "    return nall\n",
    "#------------------------------------------------------------------------------------------\n",
    "#------------------------------------------------------------------------------------------\n",
    "\n",
    "\n",
    "# log-likelihood on R^d/O(d):\n",
    "\n",
    "# input:\n",
    "    #t: 1x1 tensor containgin nonnegative real number parametrizing the orbit \n",
    "    #x: nx1 tensor of binary data\n",
    "    \n",
    "# output:\n",
    "    # nll_val: value of negative log likelihood for data x on orbit of theta_t = t * e_1\n",
    "\n",
    "def neg_avg_log_like_bar(t, x):\n",
    "    p = sigmoid(t**2)\n",
    "    nall = -torch.mean(x*torch.log(p) + (1-x)*torch.log(1-p))\n",
    "    #nall = -torch.mean(torch.log(x*p + (1-x)*(1-p)))\n",
    "    \n",
    "    return nall"
   ]
  },
  {
   "cell_type": "code",
   "execution_count": 7,
   "metadata": {},
   "outputs": [
    {
     "data": {
      "text/plain": [
       "<torch._C.Generator at 0x7f0c5004dc30>"
      ]
     },
     "execution_count": 7,
     "metadata": {},
     "output_type": "execute_result"
    }
   ],
   "source": [
    "# set seed:\n",
    "torch.manual_seed(0)\n",
    "\n",
    "#dimensions\n",
    "n = int(1e3) \n",
    "d = int(1e6)\n",
    "\n",
    "# truth:\n",
    "theta0 = torch.rand(d, 1) / (d**.5)\n",
    "orb0 = torch.sqrt(torch.matmul(theta0.t(), theta0)) \n",
    "\n",
    "# probs:\n",
    "p = sigmoid(torch.matmul(theta0.t(), theta0))\n",
    "p = p.repeat(n, 1)\n",
    "\n",
    "#data:\n",
    "x = torch.bernoulli(p)"
   ]
  },
  {
   "cell_type": "markdown",
   "metadata": {},
   "source": [
    "### Gradient Descent on $\\mathbb{R}^d$"
   ]
  },
  {
   "cell_type": "code",
   "execution_count": 9,
   "metadata": {},
   "outputs": [],
   "source": [
    "class FullModel(torch.nn.Module):\n",
    "    def __init__(self, theta_init):\n",
    "        super(FullModel, self).__init__()\n",
    "        self.value = torch.nn.Parameter(theta_init)\n",
    "\n",
    "    def neg_avg_log_like(self, x):\n",
    "        p = sigmoid(torch.matmul(self.value.t(), self.value))\n",
    "        nall = -torch.mean(x*torch.log(p) + (1-x)*torch.log(1-p))\n",
    "        #nall = -torch.mean(x*torch.log(p) + (1-x)*torch.log(1-p))\n",
    "        return nall\n",
    "        \n",
    "    def forward(self, x):\n",
    "        return self.neg_avg_log_like(x)\n",
    "    \n",
    "    def get_orb(self):\n",
    "        with torch.no_grad():\n",
    "            res = torch.sqrt(torch.matmul(self.value.t(), self.value))\n",
    "        return res\n",
    "        \n",
    "\n"
   ]
  },
  {
   "cell_type": "code",
   "execution_count": 11,
   "metadata": {},
   "outputs": [
    {
     "data": {
      "text/plain": [
       "<torch._C.Generator at 0x7f0c5004dc30>"
      ]
     },
     "execution_count": 11,
     "metadata": {},
     "output_type": "execute_result"
    },
    {
     "name": "stdout",
     "output_type": "stream",
     "text": [
      "epoch: 0\n",
      "negative average log likelihood: 0.704217\n",
      "orbit distance: 0.422050\n",
      "epoch: 500\n",
      "negative average log likelihood: 0.685200\n",
      "orbit distance: 0.325498\n",
      "epoch: 1000\n",
      "negative average log likelihood: 0.677291\n",
      "orbit distance: 0.263068\n",
      "epoch: 1500\n",
      "negative average log likelihood: 0.673578\n",
      "orbit distance: 0.220222\n",
      "epoch: 2000\n",
      "negative average log likelihood: 0.671682\n",
      "orbit distance: 0.189581\n",
      "epoch: 2500\n",
      "negative average log likelihood: 0.670655\n",
      "orbit distance: 0.167008\n",
      "epoch: 3000\n",
      "negative average log likelihood: 0.670073\n",
      "orbit distance: 0.150011\n",
      "epoch: 3500\n",
      "negative average log likelihood: 0.669733\n",
      "orbit distance: 0.137010\n",
      "epoch: 4000\n",
      "negative average log likelihood: 0.669529\n",
      "orbit distance: 0.126948\n",
      "epoch: 4500\n",
      "negative average log likelihood: 0.669404\n",
      "orbit distance: 0.119075\n"
     ]
    }
   ],
   "source": [
    "# set seed:\n",
    "torch.manual_seed(0)\n",
    "tkwargs = {\"device\":\"cpu\", \"dtype\":torch.double}\n",
    "# optimization of negative log likelihood using sdg on R^d\n",
    "theta_init = torch.randn(d, 1) / (d**.5)\n",
    "theta = FullModel(theta_init)#\n",
    "opt = torch.optim.SGD(theta.parameters(), lr=1e-3)\n",
    "\n",
    "# likelihoods and distances\n",
    "nalls1 = []\n",
    "orb_dists1 = []\n",
    "\n",
    "num_epochs = 5000\n",
    "for epoch in range(num_epochs):\n",
    "    opt.zero_grad()\n",
    "    nall1 = theta(x)#neg_avg_log_like(theta, x)\n",
    "    nall1.backward()\n",
    "    opt.step() \n",
    "\n",
    "    if epoch % 500 == 0 :\n",
    "        nalls1.append(nall1.item())\n",
    "        orb1 = theta.get_orb()\n",
    "        orb_dist1 = torch.abs(orb1.item() - orb0)\n",
    "        orb_dists1.append(orb_dist1)\n",
    "        print(\"epoch: %d\" %  epoch)\n",
    "        print(\"negative average log likelihood: %f\" % nall1)\n",
    "        print(\"orbit distance: %f\" % orb_dist1)\n",
    "\n",
    "#class NLL(nn.Module):\n",
    "#    '''f : \\mathbb{R}^p \\righarrow \\mathbb{R}''' \n",
    "#    def __init__(self, p):\n",
    "#        super(NLL, self).__init__()"
   ]
  },
  {
   "cell_type": "code",
   "execution_count": 41,
   "metadata": {},
   "outputs": [
    {
     "name": "stderr",
     "output_type": "stream",
     "text": [
      "/home/felix/anaconda3/envs/btrch/lib/python3.7/site-packages/numpy/core/shape_base.py:65: FutureWarning: The input object of type 'Tensor' is an array-like implementing one of the corresponding protocols (`__array__`, `__array_interface__` or `__array_struct__`); but not a sequence (or 0-D). In the future, this object will be coerced as if it was first converted using `np.array(obj)`. To retain the old behaviour, you have to either modify the type 'Tensor', or assign to an empty array created with `np.empty(correct_shape, dtype=object)`.\n",
      "  ary = asanyarray(ary)\n",
      "/home/felix/anaconda3/envs/btrch/lib/python3.7/site-packages/numpy/core/shape_base.py:65: VisibleDeprecationWarning: Creating an ndarray from ragged nested sequences (which is a list-or-tuple of lists-or-tuples-or ndarrays with different lengths or shapes) is deprecated. If you meant to do this, you must specify 'dtype=object' when creating the ndarray.\n",
      "  ary = asanyarray(ary)\n"
     ]
    },
    {
     "data": {
      "text/plain": [
       "<matplotlib.legend.Legend at 0x7f7288233cd0>"
      ]
     },
     "execution_count": 41,
     "metadata": {},
     "output_type": "execute_result"
    },
    {
     "data": {
      "image/png": "[encoded data removed]",
      "text/plain": [
       "<Figure size 432x288 with 1 Axes>"
      ]
     },
     "metadata": {
      "needs_background": "light"
     },
     "output_type": "display_data"
    }
   ],
   "source": [
    "# plots\n",
    "plt.plot(nalls1)\n",
    "plt.plot(orb_dists1)\n",
    "plt.legend(['neg log like', 'orbit distance'])"
   ]
  },
  {
   "cell_type": "markdown",
   "metadata": {},
   "source": [
    "### Gradient Descent on $\\mathbb{R}^d / O(d)$"
   ]
  },
  {
   "cell_type": "code",
   "execution_count": 12,
   "metadata": {},
   "outputs": [],
   "source": [
    "class Radius(torch.nn.Module):\n",
    "    def __init__(self, theta):\n",
    "        super(Radius, self).__init__()\n",
    "        tt = torch.sqrt(torch.matmul(theta.t(), theta))\n",
    "        self.value = torch.nn.Parameter(tt)\n",
    "\n",
    "    def neg_avg_log_like_bar(self, x):\n",
    "        p = sigmoid(self.value**2)\n",
    "        nall = -torch.mean(x*torch.log(p) + (1-x)*torch.log(1-p))\n",
    "        return nall\n",
    "\n",
    "    def forward(self, x):\n",
    "        return self.neg_avg_log_like_bar(x)"
   ]
  },
  {
   "cell_type": "code",
   "execution_count": 13,
   "metadata": {},
   "outputs": [
    {
     "data": {
      "text/plain": [
       "<torch._C.Generator at 0x7f0c5004dc30>"
      ]
     },
     "execution_count": 13,
     "metadata": {},
     "output_type": "execute_result"
    },
    {
     "name": "stdout",
     "output_type": "stream",
     "text": [
      "epoch: 0\n",
      "negative average log likelihood: 0.704217\n",
      "orbit distance: 0.422053\n",
      "epoch: 500\n",
      "negative average log likelihood: 0.685200\n",
      "orbit distance: 0.325503\n",
      "epoch: 1000\n",
      "negative average log likelihood: 0.677292\n",
      "orbit distance: 0.263076\n",
      "epoch: 1500\n",
      "negative average log likelihood: 0.673579\n",
      "orbit distance: 0.220231\n",
      "epoch: 2000\n",
      "negative average log likelihood: 0.671682\n",
      "orbit distance: 0.189583\n",
      "epoch: 2500\n",
      "negative average log likelihood: 0.670655\n",
      "orbit distance: 0.167004\n",
      "epoch: 3000\n",
      "negative average log likelihood: 0.670073\n",
      "orbit distance: 0.150008\n",
      "epoch: 3500\n",
      "negative average log likelihood: 0.669733\n",
      "orbit distance: 0.137007\n",
      "epoch: 4000\n",
      "negative average log likelihood: 0.669529\n",
      "orbit distance: 0.126940\n",
      "epoch: 4500\n",
      "negative average log likelihood: 0.669404\n",
      "orbit distance: 0.119073\n"
     ]
    }
   ],
   "source": [
    "# set seed:\n",
    "torch.manual_seed(0)\n",
    "theta = torch.randn(d, 1) / (d**.5)\n",
    "# optimization of negative log likelihood using sdg on R^d using invariance\n",
    "#theta = torch.randn(d, 1) / (d**.5)\n",
    "#t = torch.sqrt(torch.matmul(theta.t(), theta))\n",
    "#t.requires_grad = True\n",
    "t = Radius(theta)\n",
    "opt = torch.optim.SGD(t.parameters(), lr=1e-3)\n",
    "\n",
    "# likelihoods and distances\n",
    "nalls2 = []\n",
    "orb_dists2 = []\n",
    "\n",
    "num_epochs = 5000\n",
    "for epoch in range(num_epochs):\n",
    "    opt.zero_grad()\n",
    "    nall2 = t(x)\n",
    "    #nall2 = neg_avg_log_like_bar(t, x)\n",
    "    #nall2.backward()\n",
    "    nall2.backward()\n",
    "    opt.step() \n",
    "\n",
    "    if epoch % 500 == 0:\n",
    "        nalls2.append(nall2.item())\n",
    "        orb2 = t.value\n",
    "        orb_dist2 = torch.abs(orb2.item() - orb0)\n",
    "        orb_dists2.append(orb_dist2)\n",
    "        print(\"epoch: %d\" %  epoch)\n",
    "        print(\"negative average log likelihood: %f\" % nall2)\n",
    "        print(\"orbit distance: %f\" % orb_dist2)"
   ]
  },
  {
   "cell_type": "code",
   "execution_count": 14,
   "metadata": {},
   "outputs": [
    {
     "data": {
      "text/plain": [
       "[<matplotlib.lines.Line2D at 0x7f0c169a33d0>]"
      ]
     },
     "execution_count": 14,
     "metadata": {},
     "output_type": "execute_result"
    },
    {
     "data": {
      "text/plain": [
       "[<matplotlib.lines.Line2D at 0x7f0c169a3a30>]"
      ]
     },
     "execution_count": 14,
     "metadata": {},
     "output_type": "execute_result"
    },
    {
     "data": {
      "text/plain": [
       "<matplotlib.legend.Legend at 0x7f0c169a3910>"
      ]
     },
     "execution_count": 14,
     "metadata": {},
     "output_type": "execute_result"
    },
    {
     "data": {
      "image/png": "[encoded data removed]",
      "text/plain": [
       "<Figure size 432x288 with 1 Axes>"
      ]
     },
     "metadata": {
      "needs_background": "light"
     },
     "output_type": "display_data"
    }
   ],
   "source": [
    "# plots\n",
    "plt.plot(nalls2)\n",
    "plt.plot(orb_dists2)\n",
    "plt.legend(['neg log like', 'orbit distance'])"
   ]
  },
  {
   "cell_type": "code",
   "execution_count": null,
   "metadata": {},
   "outputs": [],
   "source": []
  },
  {
   "cell_type": "code",
   "execution_count": null,
   "metadata": {},
   "outputs": [],
   "source": []
  },
  {
   "cell_type": "code",
   "execution_count": null,
   "metadata": {},
   "outputs": [],
   "source": [
    "# set seed:\n",
    "torch.manual_seed(0)\n",
    "\n",
    "#dimensions\n",
    "n = 100 \n",
    "ds = [1e1, 1e2, 1e3, 1e4, 1e5] #, 1e6, 1e7, 1e8, 1e9\n",
    "\n",
    "# truth:\n",
    "theta0s = [torch.rand(d, 1) for d in ds]\n",
    "orb0 = [torch.sqrt(torch.matmul(theta0.t(), theta0)) for theta0 in theta0s]\n",
    "\n",
    "# prob:\n",
    "ps = [sigmoid(torch.matmul(theta0.t(), theta0) for theta0 in theta0s]\n",
    "ps = [p.repeat(n, 1) for p in ps]\n",
    "\n",
    "#data:\n",
    "xs = [torch.bernoulli(p) for p in ps]"
   ]
  },
  {
   "cell_type": "code",
   "execution_count": null,
   "metadata": {},
   "outputs": [],
   "source": [
    "# set seed:\n",
    "torch.manual_seed(0)\n",
    "\n",
    "for j in len(ds):\n",
    "    # optimization of negative log likelihood using sgd on R^d\n",
    "    theta = torch.randn(ds[j], 1, requires_grad=True)\n",
    "    opt = torch.optim.SGD([theta], lr=0.01)\n",
    "\n",
    "    # likelihoods and distances\n",
    "    nlls = []\n",
    "    orb_dists = []\n",
    "\n",
    "    num_epochs = 100\n",
    "    for epoch in range(num_epochs):\n",
    "        if epoch % 10 == 0 :\n",
    "            print(\"epoch: %d\" %  epoch)\n",
    "        \n",
    "        nll = neg_log_like(theta, xs[])\n",
    "        opt.zero_grad()\n",
    "        nll.backward()\n",
    "        opt.step() \n",
    "\n",
    "        if epoch % 10 == 0:\n",
    "            nlls.append(nll.item())\n",
    "            orb = torch.sqrt(torch.matmul(theta.t(), theta))\n",
    "            orb_dist = torch.abs(orb.item() - orb0)\n",
    "            orb_dists.append(orb_dist)\n",
    "\n",
    "#class NLL(nn.Module):\n",
    "#    '''f : \\mathbb{R}^p \\righarrow \\mathbb{R}''' \n",
    "#    def __init__(self, p):\n",
    "#        super(NLL, self).__init__()"
   ]
  },
  {
   "cell_type": "code",
   "execution_count": null,
   "metadata": {},
   "outputs": [],
   "source": []
  },
  {
   "cell_type": "code",
   "execution_count": 88,
   "metadata": {},
   "outputs": [
    {
     "data": {
      "text/plain": [
       "tensor(0.2655)"
      ]
     },
     "execution_count": 88,
     "metadata": {},
     "output_type": "execute_result"
    },
    {
     "data": {
      "text/plain": [
       "tensor([[0.3463]], grad_fn=<PowBackward0>)"
      ]
     },
     "execution_count": 88,
     "metadata": {},
     "output_type": "execute_result"
    }
   ],
   "source": [
    "\n",
    "p_hat = torch.sum(x)/n\n",
    "torch.log(p_hat / (1 - p_hat))\n",
    "orb1**2"
   ]
  },
  {
   "cell_type": "code",
   "execution_count": 87,
   "metadata": {},
   "outputs": [
    {
     "data": {
      "text/plain": [
       "tensor([[0.3463]], grad_fn=<PowBackward0>)"
      ]
     },
     "execution_count": 87,
     "metadata": {},
     "output_type": "execute_result"
    },
    {
     "data": {
      "text/plain": [
       "tensor([[0.5857]], grad_fn=<SigmoidBackward0>)"
      ]
     },
     "execution_count": 87,
     "metadata": {},
     "output_type": "execute_result"
    }
   ],
   "source": [
    "\n"
   ]
  },
  {
   "cell_type": "code",
   "execution_count": 89,
   "metadata": {},
   "outputs": [
    {
     "data": {
      "text/plain": [
       "tensor(0.5660)"
      ]
     },
     "execution_count": 89,
     "metadata": {},
     "output_type": "execute_result"
    },
    {
     "data": {
      "text/plain": [
       "tensor([[0.5857]], grad_fn=<SigmoidBackward0>)"
      ]
     },
     "execution_count": 89,
     "metadata": {},
     "output_type": "execute_result"
    }
   ],
   "source": [
    "p_hat\n",
    "sigmoid(orb1**2)"
   ]
  },
  {
   "cell_type": "code",
   "execution_count": null,
   "metadata": {},
   "outputs": [],
   "source": []
  }
 ],
 "metadata": {
  "kernelspec": {
   "display_name": "Python 3",
   "language": "python",
   "name": "python3"
  },
  "language_info": {
   "codemirror_mode": {
    "name": "ipython",
    "version": 3
   },
   "file_extension": ".py",
   "mimetype": "text/x-python",
   "name": "python",
   "nbconvert_exporter": "python",
   "pygments_lexer": "ipython3",
   "version": "3.8.10"
  }
 },
 "nbformat": 4,
 "nbformat_minor": 4
}
