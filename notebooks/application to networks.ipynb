{
 "cells": [
  {
   "cell_type": "code",
   "execution_count": 1,
   "metadata": {},
   "outputs": [],
   "source": [
    "from IPython.core.interactiveshell import InteractiveShell\n",
    "InteractiveShell.ast_node_interactivity = \"all\""
   ]
  },
  {
   "cell_type": "code",
   "execution_count": 35,
   "metadata": {},
   "outputs": [],
   "source": [
    "import torch\n",
    "import torch.nn as nn\n",
    "import torch.nn.functional as F\n",
    "import torch.distributions as D\n",
    "\n",
    "import gpytorch\n",
    "from gpytorch.kernels import MaternKernel, ScaleKernel, \\\n",
    "RBFKernel, CosineKernel\n",
    "from gpytorch.constraints import Positive\n",
    "\n",
    "import matplotlib.pyplot as plt\n",
    "import numpy as np"
   ]
  },
  {
   "cell_type": "markdown",
   "metadata": {},
   "source": [
    "## Note: \n",
    "Define $\\sigma: \\mathbb{R} \\rightarrow (0, \\infty)$ and $g: \\mathbb{R}^{d \\times n} \\rightarrow \\mathbb{R}^{n \\times n}$ by $$\\sigma(t) = \\frac{e^t}{1+e^t}$$ and $$g(\\theta)_{i,j} = \\sigma[(\\theta^T \\theta)_{i,j}]$$\n"
   ]
  },
  {
   "cell_type": "code",
   "execution_count": 3,
   "metadata": {},
   "outputs": [],
   "source": [
    "sigmoid = nn.Sigmoid()\n",
    "logit = torch.special.logit"
   ]
  },
  {
   "cell_type": "markdown",
   "metadata": {},
   "source": [
    "## **Implementation:** \n",
    "Let $\\theta \\in \\mathbb{R}^{d \\times n}$. For $t \\in \\{1, \\ldots, T\\}$ and $i,j \\in \\{1, \\ldots, n\\}$, suppose that $A^{(t)}_{i,j} \\overset{\\text{iid}}{\\sim} \\text{Ber}(g(\\theta)_{i,j})$ "
   ]
  },
  {
   "cell_type": "code",
   "execution_count": 9,
   "metadata": {},
   "outputs": [],
   "source": [
    "def get_up_tri_ind(n, offset=0):\n",
    "        ind = torch.triu_indices(row=n, col=n, offset=offset)\n",
    "        \n",
    "        return ind\n",
    "    \n",
    "def get_up_tri(vec, offset=0):\n",
    "    l = vec.shape[-1]\n",
    "    n = int((-1 + (1 + 8*l)**.5)/2)\n",
    "    mat = torch.zeros(n, n)\n",
    "    ind = get_up_tri_ind(n, offset=offset)\n",
    "    mat[ind[0], ind[1]] = vec\n",
    "        \n",
    "    return mat\n",
    "        \n",
    "def get_up_tri_vec(mat, offset=0):\n",
    "    n = mat.shape[-1]\n",
    "    vec = torch.zeros(int(n * (n+1) / 2))\n",
    "    ind = get_up_tri_ind(n, offset=offset)\n",
    "    vec = mat[ind[0], ind[1]]\n",
    "        \n",
    "    return vec\n",
    "\n",
    "class Orbit(torch.nn.Module):\n",
    "    # input:\n",
    "    # eta: 1-dimensional tensor of length l\n",
    "    #      where l = n+1 choose 2\n",
    "    \n",
    "    # output: \n",
    "    # instance of class Orbit identified as a vector in R^l\n",
    "    def __init__(self, eta):\n",
    "        super(Orbit, self).__init__()\n",
    "        # length l\n",
    "        self.l = eta.shape[0]\n",
    "        # embedding dimension n\n",
    "        self.n = int((-1 + (1 + 8*l)**.5)/2)\n",
    "        # vector\n",
    "        self.orb = torch.nn.Parameter(eta)\n",
    "        \n",
    "        return\n",
    "\n",
    "    def neg_avg_log_like(self, A):\n",
    "        t = A.shape[-3]\n",
    "        assert self.n == A.shape[-1]\n",
    "        assert self.n == A.shape[-2]\n",
    "        ind = get_up_tri_ind(self.n, offset=1)\n",
    "        \n",
    "        up_tri = get_up_tri(self.orb)\n",
    "        P = sigmoid(up_tri.t() @ up_tri)\n",
    "        # log likelihood matrix\n",
    "        llm = A*torch.log(P) + (1-A)*torch.log(1-P)\n",
    "        #log likelihood vector\n",
    "        llv = llm[:, ind[0], ind[1]]\n",
    "        # negative average log likelihood\n",
    "        nall = -torch.mean(llv)\n",
    "        \n",
    "        return nall\n",
    "\n",
    "    def forward(self, A):\n",
    "        return self.neg_avg_log_like(A)\n",
    "    \n",
    "    def get_orb_norm(self):\n",
    "        with torch.no_grad():\n",
    "            orb_norm = torch.linalg.norm(self.orb)\n",
    "            \n",
    "        return orb_norm\n",
    "    \n",
    "    "
   ]
  },
  {
   "cell_type": "code",
   "execution_count": 132,
   "metadata": {},
   "outputs": [
    {
     "data": {
      "text/plain": [
       "<torch._C.Generator at 0x7f9678274bb0>"
      ]
     },
     "execution_count": 132,
     "metadata": {},
     "output_type": "execute_result"
    }
   ],
   "source": [
    "# set seed:\n",
    "torch.manual_seed(0)\n",
    "\n",
    "# dimensions\n",
    "n = int(20)\n",
    "l = int(n * (n+1) / 2)\n",
    "d = int(100)\n",
    "t = int(1e3)\n",
    "\n",
    "# generate data\n",
    "sig = .1\n",
    "means = torch.tensor([5.0, -5.0]).reshape((2, 1)).repeat(1, d)\n",
    "stdvs = torch.tensor(sig).repeat(2,d)\n",
    "mix = D.Categorical(torch.ones(2,))\n",
    "comp = D.Independent(D.Normal(means, stdvs), 1)\n",
    "gmm = D.MixtureSameFamily(mix, comp)\n",
    "\n",
    "theta0 = gmm.sample((1, n)).reshape((n, d)).t() / torch.tensor(d**.5)\n",
    "\n",
    "ind = get_up_tri_ind(n)\n",
    "r0 = torch.linalg.qr(theta0)[1]\n",
    "eta0 = r0[ind[0], ind[1]]\n",
    "orb0_norm = torch.linalg.norm(eta0)\n",
    "\n",
    "P = sigmoid(theta0.t() @ theta0)\n",
    "P = P.repeat(t, 1, 1)\n",
    "\n",
    "A = torch.bernoulli(P)\n",
    "A[:, ind[0], ind[1]] = 0\n",
    "A = A + torch.transpose(A, 1, 2)"
   ]
  },
  {
   "cell_type": "code",
   "execution_count": 133,
   "metadata": {},
   "outputs": [],
   "source": [
    "#P"
   ]
  },
  {
   "cell_type": "code",
   "execution_count": 134,
   "metadata": {},
   "outputs": [
    {
     "data": {
      "text/plain": [
       "<torch._C.Generator at 0x7f9678274bb0>"
      ]
     },
     "execution_count": 134,
     "metadata": {},
     "output_type": "execute_result"
    },
    {
     "name": "stdout",
     "output_type": "stream",
     "text": [
      "epoch: 0\n",
      "negative average log likelihood: 1.143989\n",
      "orbit distance: nan\n",
      "epoch: 1000\n",
      "negative average log likelihood: nan\n",
      "orbit distance: nan\n"
     ]
    },
    {
     "ename": "KeyboardInterrupt",
     "evalue": "",
     "output_type": "error",
     "traceback": [
      "\u001b[0;31m---------------------------------------------------------------------------\u001b[0m",
      "\u001b[0;31mKeyboardInterrupt\u001b[0m                         Traceback (most recent call last)",
      "\u001b[0;32m<ipython-input-134-e1064c968663>\u001b[0m in \u001b[0;36m<module>\u001b[0;34m\u001b[0m\n\u001b[1;32m     15\u001b[0m     \u001b[0mopt\u001b[0m\u001b[0;34m.\u001b[0m\u001b[0mzero_grad\u001b[0m\u001b[0;34m(\u001b[0m\u001b[0;34m)\u001b[0m\u001b[0;34m\u001b[0m\u001b[0;34m\u001b[0m\u001b[0m\n\u001b[1;32m     16\u001b[0m     \u001b[0mnall\u001b[0m \u001b[0;34m=\u001b[0m \u001b[0morb\u001b[0m\u001b[0;34m(\u001b[0m\u001b[0mA\u001b[0m\u001b[0;34m)\u001b[0m\u001b[0;34m\u001b[0m\u001b[0;34m\u001b[0m\u001b[0m\n\u001b[0;32m---> 17\u001b[0;31m     \u001b[0mnall\u001b[0m\u001b[0;34m.\u001b[0m\u001b[0mbackward\u001b[0m\u001b[0;34m(\u001b[0m\u001b[0;34m)\u001b[0m\u001b[0;34m\u001b[0m\u001b[0;34m\u001b[0m\u001b[0m\n\u001b[0m\u001b[1;32m     18\u001b[0m     \u001b[0mopt\u001b[0m\u001b[0;34m.\u001b[0m\u001b[0mstep\u001b[0m\u001b[0;34m(\u001b[0m\u001b[0;34m)\u001b[0m\u001b[0;34m\u001b[0m\u001b[0;34m\u001b[0m\u001b[0m\n\u001b[1;32m     19\u001b[0m \u001b[0;34m\u001b[0m\u001b[0m\n",
      "\u001b[0;32m~/.local/lib/python3.8/site-packages/torch/_tensor.py\u001b[0m in \u001b[0;36mbackward\u001b[0;34m(self, gradient, retain_graph, create_graph, inputs)\u001b[0m\n\u001b[1;32m    305\u001b[0m                 \u001b[0mcreate_graph\u001b[0m\u001b[0;34m=\u001b[0m\u001b[0mcreate_graph\u001b[0m\u001b[0;34m,\u001b[0m\u001b[0;34m\u001b[0m\u001b[0;34m\u001b[0m\u001b[0m\n\u001b[1;32m    306\u001b[0m                 inputs=inputs)\n\u001b[0;32m--> 307\u001b[0;31m         \u001b[0mtorch\u001b[0m\u001b[0;34m.\u001b[0m\u001b[0mautograd\u001b[0m\u001b[0;34m.\u001b[0m\u001b[0mbackward\u001b[0m\u001b[0;34m(\u001b[0m\u001b[0mself\u001b[0m\u001b[0;34m,\u001b[0m \u001b[0mgradient\u001b[0m\u001b[0;34m,\u001b[0m \u001b[0mretain_graph\u001b[0m\u001b[0;34m,\u001b[0m \u001b[0mcreate_graph\u001b[0m\u001b[0;34m,\u001b[0m \u001b[0minputs\u001b[0m\u001b[0;34m=\u001b[0m\u001b[0minputs\u001b[0m\u001b[0;34m)\u001b[0m\u001b[0;34m\u001b[0m\u001b[0;34m\u001b[0m\u001b[0m\n\u001b[0m\u001b[1;32m    308\u001b[0m \u001b[0;34m\u001b[0m\u001b[0m\n\u001b[1;32m    309\u001b[0m     \u001b[0;32mdef\u001b[0m \u001b[0mregister_hook\u001b[0m\u001b[0;34m(\u001b[0m\u001b[0mself\u001b[0m\u001b[0;34m,\u001b[0m \u001b[0mhook\u001b[0m\u001b[0;34m)\u001b[0m\u001b[0;34m:\u001b[0m\u001b[0;34m\u001b[0m\u001b[0;34m\u001b[0m\u001b[0m\n",
      "\u001b[0;32m~/.local/lib/python3.8/site-packages/torch/autograd/__init__.py\u001b[0m in \u001b[0;36mbackward\u001b[0;34m(tensors, grad_tensors, retain_graph, create_graph, grad_variables, inputs)\u001b[0m\n\u001b[1;32m    152\u001b[0m         \u001b[0mretain_graph\u001b[0m \u001b[0;34m=\u001b[0m \u001b[0mcreate_graph\u001b[0m\u001b[0;34m\u001b[0m\u001b[0;34m\u001b[0m\u001b[0m\n\u001b[1;32m    153\u001b[0m \u001b[0;34m\u001b[0m\u001b[0m\n\u001b[0;32m--> 154\u001b[0;31m     Variable._execution_engine.run_backward(\n\u001b[0m\u001b[1;32m    155\u001b[0m         \u001b[0mtensors\u001b[0m\u001b[0;34m,\u001b[0m \u001b[0mgrad_tensors_\u001b[0m\u001b[0;34m,\u001b[0m \u001b[0mretain_graph\u001b[0m\u001b[0;34m,\u001b[0m \u001b[0mcreate_graph\u001b[0m\u001b[0;34m,\u001b[0m \u001b[0minputs\u001b[0m\u001b[0;34m,\u001b[0m\u001b[0;34m\u001b[0m\u001b[0;34m\u001b[0m\u001b[0m\n\u001b[1;32m    156\u001b[0m         allow_unreachable=True, accumulate_grad=True)  # allow_unreachable flag\n",
      "\u001b[0;31mKeyboardInterrupt\u001b[0m: "
     ]
    }
   ],
   "source": [
    "torch.manual_seed(3)\n",
    "\n",
    "# optimizer\n",
    "eta = torch.randn(l)\n",
    "orb = Orbit(eta)\n",
    "opt = torch.optim.SGD(orb.parameters(), lr=1e-2)\n",
    "\n",
    "# likelihoods and distances\n",
    "nalls = []\n",
    "orb_dists = []\n",
    "\n",
    "# optimize\n",
    "num_epochs = 10000\n",
    "for epoch in range(num_epochs):\n",
    "    opt.zero_grad()\n",
    "    nall = orb(A)\n",
    "    nall.backward()\n",
    "    opt.step() \n",
    "\n",
    "    if epoch % 1000 == 0:\n",
    "        nalls.append(nall.item())\n",
    "        orb_norm = orb.get_orb_norm() \n",
    "        orb_dist = torch.abs(orb_norm - orb0_norm)\n",
    "        orb_dists.append(orb_dist)\n",
    "        print(\"epoch: %d\" %  epoch)\n",
    "        print(\"negative average log likelihood: %f\" % nall)\n",
    "        print(\"orbit distance: %f\" % orb_dist)"
   ]
  },
  {
   "cell_type": "code",
   "execution_count": 122,
   "metadata": {},
   "outputs": [
    {
     "data": {
      "text/plain": [
       "[<matplotlib.lines.Line2D at 0x7f963cbc5850>]"
      ]
     },
     "execution_count": 122,
     "metadata": {},
     "output_type": "execute_result"
    },
    {
     "data": {
      "text/plain": [
       "[<matplotlib.lines.Line2D at 0x7f963caeed90>]"
      ]
     },
     "execution_count": 122,
     "metadata": {},
     "output_type": "execute_result"
    },
    {
     "data": {
      "text/plain": [
       "<matplotlib.legend.Legend at 0x7f963cb11d30>"
      ]
     },
     "execution_count": 122,
     "metadata": {},
     "output_type": "execute_result"
    },
    {
     "data": {
      "text/plain": [
       "tensor(4.3349)"
      ]
     },
     "execution_count": 122,
     "metadata": {},
     "output_type": "execute_result"
    },
    {
     "data": {
      "image/png": "[encoded data removed]",
      "text/plain": [
       "<Figure size 432x288 with 1 Axes>"
      ]
     },
     "metadata": {
      "needs_background": "light"
     },
     "output_type": "display_data"
    }
   ],
   "source": [
    "# plots\n",
    "plt.plot(nalls)\n",
    "plt.plot(orb_dists)\n",
    "plt.legend(['neg log like', 'orbit distance'])\n",
    "\n",
    "with torch.no_grad():\n",
    "    theta_hat = get_up_tri(orb.orb)\n",
    "\n",
    "P_hat = sigmoid(theta_hat.t() @ theta_hat)\n",
    "\n",
    "torch.linalg.norm(P_hat - P)\n",
    "\n"
   ]
  },
  {
   "cell_type": "code",
   "execution_count": null,
   "metadata": {},
   "outputs": [],
   "source": [
    "theta0_top = torch.randn"
   ]
  },
  {
   "cell_type": "code",
   "execution_count": 83,
   "metadata": {},
   "outputs": [
    {
     "data": {
      "text/plain": [
       "<torch._C.Generator at 0x7f9678274bb0>"
      ]
     },
     "execution_count": 83,
     "metadata": {},
     "output_type": "execute_result"
    },
    {
     "data": {
      "text/plain": [
       "tensor([[ 1.5503, -0.1517, -2.4217],\n",
       "        [ 1.5501, -0.0534, -2.1349]])"
      ]
     },
     "execution_count": 83,
     "metadata": {},
     "output_type": "execute_result"
    }
   ],
   "source": [
    "torch.manual_seed(0)\n",
    "mix = D.Categorical(torch.ones(2,))\n",
    "comp = D.Independent(D.Normal(torch.randn(2,d), torch.rand(2,d)), 1)\n",
    "gmm = D.MixtureSameFamily(mix, comp)\n",
    "gmm.sample((1, n)).reshape((n, d))"
   ]
  },
  {
   "cell_type": "code",
   "execution_count": 94,
   "metadata": {},
   "outputs": [
    {
     "data": {
      "text/plain": [
       "<torch._C.Generator at 0x7f9678274bb0>"
      ]
     },
     "execution_count": 94,
     "metadata": {},
     "output_type": "execute_result"
    },
    {
     "data": {
      "text/plain": [
       "tensor([[-10.1399,  -9.9818],\n",
       "        [ -9.9597, -10.0857],\n",
       "        [ -9.9162,  -9.8899]])"
      ]
     },
     "execution_count": 94,
     "metadata": {},
     "output_type": "execute_result"
    }
   ],
   "source": [
    "torch.manual_seed(0)\n",
    "sig = .1\n",
    "means = torch.tensor([10.0, -10.0]).reshape((2, 1)).repeat(1, d)\n",
    "stdvs = torch.tensor(sig).repeat(2,d)\n",
    "mix = D.Categorical(torch.ones(2,))\n",
    "comp = D.Independent(D.Normal(means, stdvs), 1)\n",
    "gmm = D.MixtureSameFamily(mix, comp)\n",
    "\n",
    "gmm.sample((1, n)).reshape((n, d)).t()"
   ]
  },
  {
   "cell_type": "markdown",
   "metadata": {},
   "source": [
    "### gmm.sample((1, n)).reshape((n, d)).t()"
   ]
  },
  {
   "cell_type": "code",
   "execution_count": 71,
   "metadata": {},
   "outputs": [
    {
     "data": {
      "text/plain": [
       "tensor([[ 10,  10,  10],\n",
       "        [-10, -10, -10]])"
      ]
     },
     "execution_count": 71,
     "metadata": {},
     "output_type": "execute_result"
    }
   ],
   "source": [
    "means = torch.tensor([10, -10]).reshape((2, 1)).repeat(1, d)\n",
    "means"
   ]
  },
  {
   "cell_type": "code",
   "execution_count": 34,
   "metadata": {},
   "outputs": [
    {
     "data": {
      "text/plain": [
       "torch.distributions.normal.Normal"
      ]
     },
     "execution_count": 34,
     "metadata": {},
     "output_type": "execute_result"
    }
   ],
   "source": [
    "import torch.distributions as D\n",
    "D.normal.Normal"
   ]
  },
  {
   "cell_type": "code",
   "execution_count": null,
   "metadata": {},
   "outputs": [],
   "source": []
  },
  {
   "cell_type": "code",
   "execution_count": 27,
   "metadata": {},
   "outputs": [
    {
     "data": {
      "text/plain": [
       "tensor([[[1, 0],\n",
       "         [0, 1]],\n",
       "\n",
       "        [[0, 1],\n",
       "         [1, 0]]])"
      ]
     },
     "execution_count": 27,
     "metadata": {},
     "output_type": "execute_result"
    },
    {
     "data": {
      "text/plain": [
       "tensor([[0.8442, 0.5065],\n",
       "        [0.5065, 0.5400]])"
      ]
     },
     "execution_count": 27,
     "metadata": {},
     "output_type": "execute_result"
    },
    {
     "data": {
      "text/plain": [
       "tensor([[[-0.1693, -0.7062],\n",
       "         [-0.7062, -0.6162]],\n",
       "\n",
       "        [[-1.8593, -0.6802],\n",
       "         [-0.6802, -0.7766]]])"
      ]
     },
     "execution_count": 27,
     "metadata": {},
     "output_type": "execute_result"
    },
    {
     "data": {
      "text/plain": [
       "tensor([[-0.7062],\n",
       "        [-0.6802]])"
      ]
     },
     "execution_count": 27,
     "metadata": {},
     "output_type": "execute_result"
    },
    {
     "data": {
      "text/plain": [
       "tensor(0.6932)"
      ]
     },
     "execution_count": 27,
     "metadata": {},
     "output_type": "execute_result"
    }
   ],
   "source": [
    "A = torch.tensor([[1, 0, 0, 1], [0, 1, 1, 0]]).reshape(2, 2, 2)\n",
    "A\n",
    "eta = torch.tensor([1.3, .02, -.4])\n",
    "orb = Orbit(eta)\n",
    "U = get_up_tri(eta)\n",
    "P = sigmoid(U.t() @ U)\n",
    "P\n",
    "llm = A*torch.log(P) + (1-A)*torch.log(1-P)\n",
    "llm\n",
    "ind = get_up_tri_ind(2, offset=1)\n",
    "#log likelihood vector\n",
    "llv = llm[:, ind[0], ind[1]]\n",
    "llv\n",
    "# negative average log likelihood\n",
    "nall = -torch.mean(llv)\n",
    "nall"
   ]
  },
  {
   "cell_type": "code",
   "execution_count": 23,
   "metadata": {},
   "outputs": [
    {
     "data": {
      "text/plain": [
       "tensor(-1.8592)"
      ]
     },
     "execution_count": 23,
     "metadata": {},
     "output_type": "execute_result"
    }
   ],
   "source": [
    "torch.log(torch.tensor(1- .8442))"
   ]
  },
  {
   "cell_type": "code",
   "execution_count": null,
   "metadata": {},
   "outputs": [],
   "source": []
  },
  {
   "cell_type": "code",
   "execution_count": null,
   "metadata": {},
   "outputs": [],
   "source": []
  },
  {
   "cell_type": "code",
   "execution_count": 9,
   "metadata": {},
   "outputs": [
    {
     "data": {
      "text/plain": [
       "tensor(0.7428, grad_fn=<NegBackward0>)"
      ]
     },
     "execution_count": 9,
     "metadata": {},
     "output_type": "execute_result"
    }
   ],
   "source": [
    "A = torch.tensor([[1,0,0,1], [0,1,1,0,]]).reshape(2, 2, 2)\n",
    "theta = torch.randn(3, 2)\n",
    "orb = Orbit(theta)\n",
    "l = orb.vec.shape[-1]\n",
    "n = int((-1 + (1 + 8*l)**.5)/2)\n",
    "\n",
    "t = A.shape[-3]\n",
    "assert orb.n == A.shape[-1]\n",
    "assert orb.n == A.shape[-2]\n",
    "ind = get_up_tri_ind(n, offset=1)\n",
    "        \n",
    "up_tri = get_up_tri(orb.vec)\n",
    "P = sigmoid(up_tri.t() @ up_tri)\n",
    "# log likelihood matrix\n",
    "llm = A*torch.log(P) + (1-A)*torch.log(1-P)\n",
    "#log likelihood vector\n",
    "llv = llm[:, ind[0], ind[1]]\n",
    "nall = -torch.mean(llv)\n",
    "\n",
    "\n",
    "\n",
    "\n",
    "\n",
    "\n",
    "\n",
    "#orb.vec\n",
    "\n",
    "orb.forward(A)"
   ]
  },
  {
   "cell_type": "code",
   "execution_count": 183,
   "metadata": {},
   "outputs": [
    {
     "data": {
      "text/plain": [
       "tensor([[[-0.0204, -0.3022],\n",
       "         [-0.3022, -0.3985]],\n",
       "\n",
       "        [[-3.9026, -1.3440],\n",
       "         [-1.3440, -1.1127]]], grad_fn=<AddBackward0>)"
      ]
     },
     "execution_count": 183,
     "metadata": {},
     "output_type": "execute_result"
    },
    {
     "data": {
      "text/plain": [
       "tensor([[-0.3022, -0.3985]], grad_fn=<IndexBackward0>)"
      ]
     },
     "execution_count": 183,
     "metadata": {},
     "output_type": "execute_result"
    }
   ],
   "source": [
    "llm\n",
    "llm[0:,:][ind[0], ind[1]]\n"
   ]
  },
  {
   "cell_type": "code",
   "execution_count": 154,
   "metadata": {},
   "outputs": [
    {
     "data": {
      "text/plain": [
       "tensor([[[1, 0],\n",
       "         [0, 1]],\n",
       "\n",
       "        [[1, 1],\n",
       "         [0, 0]]])"
      ]
     },
     "execution_count": 154,
     "metadata": {},
     "output_type": "execute_result"
    },
    {
     "data": {
      "text/plain": [
       "torch.Size([2, 2, 2])"
      ]
     },
     "execution_count": 154,
     "metadata": {},
     "output_type": "execute_result"
    },
    {
     "data": {
      "text/plain": [
       "tensor([[1, 0, 0, 1],\n",
       "        [1, 1, 0, 0]])"
      ]
     },
     "execution_count": 154,
     "metadata": {},
     "output_type": "execute_result"
    }
   ],
   "source": [
    "A\n",
    "A.shape[-1:: -1]\n",
    "A.reshape(A.shape[-3], -1)"
   ]
  },
  {
   "cell_type": "code",
   "execution_count": 93,
   "metadata": {},
   "outputs": [
    {
     "data": {
      "text/plain": [
       "torch.Size([2, 3])"
      ]
     },
     "execution_count": 93,
     "metadata": {},
     "output_type": "execute_result"
    }
   ],
   "source": [
    "theta = torch.randn(2, 5, 3)\n",
    "d = theta.shape[-2]\n",
    "n = theta.shape[-1]\n",
    "assert d >= n\n",
    "        \n",
    "upr_tri = torch.linalg.qr(theta)[1]\n",
    "#upr_tri\n",
    "\n",
    "ind = torch.triu_indices(row=n, col=n, offset=1)\n",
    "x = upr_tri[:, ind[0], ind[1]]\n",
    "x.shape"
   ]
  },
  {
   "cell_type": "code",
   "execution_count": 60,
   "metadata": {},
   "outputs": [
    {
     "data": {
      "text/plain": [
       "6"
      ]
     },
     "execution_count": 60,
     "metadata": {},
     "output_type": "execute_result"
    },
    {
     "data": {
      "text/plain": [
       "1"
      ]
     },
     "execution_count": 60,
     "metadata": {},
     "output_type": "execute_result"
    }
   ],
   "source": [
    "x.shape[-1]\n",
    "x.dim()"
   ]
  },
  {
   "cell_type": "code",
   "execution_count": 69,
   "metadata": {},
   "outputs": [
    {
     "data": {
      "text/plain": [
       "tensor([[0.5000, 0.5000, 0.5000],\n",
       "        [0.7311, 0.7311, 0.7311]])"
      ]
     },
     "execution_count": 69,
     "metadata": {},
     "output_type": "execute_result"
    }
   ],
   "source": [
    "sigmoid = nn.Sigmoid()\n",
    "m = torch.zeros(2,3)\n",
    "m[[1], [0, 1, 2]] = torch.tensor([1.0,1.0,1.0])\n",
    "sigmoid(m)"
   ]
  },
  {
   "cell_type": "code",
   "execution_count": 87,
   "metadata": {},
   "outputs": [
    {
     "data": {
      "text/plain": [
       "tensor(0.1407)"
      ]
     },
     "execution_count": 87,
     "metadata": {},
     "output_type": "execute_result"
    },
    {
     "data": {
      "text/plain": [
       "tensor(0.1407)"
      ]
     },
     "execution_count": 87,
     "metadata": {},
     "output_type": "execute_result"
    },
    {
     "data": {
      "text/plain": [
       "torch.Size([2, 3, 3])"
      ]
     },
     "execution_count": 87,
     "metadata": {},
     "output_type": "execute_result"
    },
    {
     "data": {
      "text/plain": [
       "tensor([ 0.1564,  0.2282,  0.4826,  0.0667, -0.4289, -0.7223, -0.0926,  1.3388,\n",
       "         0.4465])"
      ]
     },
     "execution_count": 87,
     "metadata": {},
     "output_type": "execute_result"
    },
    {
     "data": {
      "text/plain": [
       "tensor([ 0.1564,  0.2282,  0.4826,  0.0667, -0.4289, -0.7223, -0.0926,  1.3388,\n",
       "         0.4465])"
      ]
     },
     "execution_count": 87,
     "metadata": {},
     "output_type": "execute_result"
    }
   ],
   "source": [
    "P = torch.rand(3, 3)\n",
    "X = torch.randn(2, 3, 3)\n",
    "a = X*P\n",
    "torch.sum(X*P) / 18\n",
    "torch.mean((X*P))\n",
    "#X[0,:,:]*P\n",
    "\n",
    "a.shape\n",
    "\n",
    "a.reshape((2, 9))[0]\n",
    "a[0,:,:].reshape((9))"
   ]
  },
  {
   "cell_type": "markdown",
   "metadata": {},
   "source": [
    "## **Comparison to MASE:**"
   ]
  },
  {
   "cell_type": "code",
   "execution_count": null,
   "metadata": {},
   "outputs": [],
   "source": [
    "# MASE: \n",
    "\n",
    "# Vt_hat = d left leading singular vectors of nxd adj matrix At_hat (use torch.linalg.svd)\n",
    "# U_hat = nxtd concatenated Vt_hats\n",
    "# V_hat = d left leading singular vectors of U_hat"
   ]
  }
 ],
 "metadata": {
  "kernelspec": {
   "display_name": "Python 3",
   "language": "python",
   "name": "python3"
  },
  "language_info": {
   "codemirror_mode": {
    "name": "ipython",
    "version": 3
   },
   "file_extension": ".py",
   "mimetype": "text/x-python",
   "name": "python",
   "nbconvert_exporter": "python",
   "pygments_lexer": "ipython3",
   "version": "3.8.10"
  }
 },
 "nbformat": 4,
 "nbformat_minor": 4
}
