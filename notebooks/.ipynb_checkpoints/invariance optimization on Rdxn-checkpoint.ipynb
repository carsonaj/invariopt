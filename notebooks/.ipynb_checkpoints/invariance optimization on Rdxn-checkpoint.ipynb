{
 "cells": [
  {
   "cell_type": "code",
   "execution_count": 1,
   "metadata": {},
   "outputs": [],
   "source": [
    "from IPython.core.interactiveshell import InteractiveShell\n",
    "InteractiveShell.ast_node_interactivity = \"all\""
   ]
  },
  {
   "cell_type": "code",
   "execution_count": 2,
   "metadata": {},
   "outputs": [],
   "source": [
    "import torch\n",
    "import torch.nn as nn\n",
    "import torch.nn.functional as F\n",
    "\n",
    "import gpytorch\n",
    "from gpytorch.kernels import MaternKernel, ScaleKernel, \\\n",
    "RBFKernel, CosineKernel\n",
    "from gpytorch.constraints import Positive\n",
    "\n",
    "import matplotlib.pyplot as plt\n",
    "import numpy as np"
   ]
  },
  {
   "cell_type": "markdown",
   "metadata": {},
   "source": [
    "## Note: \n",
    "Define $\\sigma: \\mathbb{R} \\rightarrow (0, \\infty)$ and $g: \\mathbb{R}^{d \\times n} \\rightarrow \\mathbb{R}^{n \\times n}$ by $$\\sigma(t) = \\frac{e^t}{1+e^t}$$ and $$g(\\theta)_{i,j} = \\sigma[(\\theta^T \\theta)_{i,j}]$$\n"
   ]
  },
  {
   "cell_type": "code",
   "execution_count": 4,
   "metadata": {},
   "outputs": [],
   "source": [
    "sigmoid = nn.Sigmoid()"
   ]
  },
  {
   "cell_type": "markdown",
   "metadata": {},
   "source": [
    "## **Implementation:** \n",
    "Let $\\theta \\in \\mathbb{R}^{d \\times n}$. For $t \\in \\{1, \\ldots, T\\}$ and $i,j \\in \\{1, \\ldots, n\\}$, suppose that $A^{(t)}_{i,j} \\overset{\\text{iid}}{\\sim} \\text{Ber}(g(\\theta)_{i,j})$ "
   ]
  },
  {
   "cell_type": "code",
   "execution_count": null,
   "metadata": {},
   "outputs": [],
   "source": [
    "# negative average log-likelihood on R^dxn/O(d):\n",
    "\n",
    "# input:\n",
    "    #eta: (d+1 choose 2) x 1 tensor containing real number parametrizing the orbit \n",
    "    #A: dxnxT tensor of binary data such that for each t, A[:,:,t] is an observed adjacency matrix\n",
    "    \n",
    "# output:\n",
    "    # nall_val: value of negative average log likelihood for data A on orbit of theta_eta \n",
    "    # where theta_eta the embedding of R^{d+1 choose 2} into the lower-triangular matrices\n",
    "    # of R^{dxn}\n",
    "\n",
    "def neg_avg_log_like_bar(eta, A):\n",
    "    # embed\n",
    "    p = sigmoid(t**2)\n",
    "    nall = -torch.mean(x*torch.log(p) + (1-x)*torch.log(1-p))\n",
    "    \n",
    "    \n",
    "    return nall"
   ]
  },
  {
   "cell_type": "code",
   "execution_count": null,
   "metadata": {},
   "outputs": [],
   "source": []
  },
  {
   "cell_type": "code",
   "execution_count": null,
   "metadata": {},
   "outputs": [],
   "source": []
  },
  {
   "cell_type": "markdown",
   "metadata": {},
   "source": [
    "## **Comparison to MASE:**"
   ]
  },
  {
   "cell_type": "code",
   "execution_count": null,
   "metadata": {},
   "outputs": [],
   "source": [
    "# MASE: \n",
    "\n",
    "# Vt_hat = d left leading singular vectors of nxd adj matrix At_hat (use torch.linalg.svd)\n",
    "# U_hat = nxtd concatenated Vt_hats\n",
    "# V_hat = d left leading singular vectors of U_hat"
   ]
  }
 ],
 "metadata": {
  "kernelspec": {
   "display_name": "Python 3",
   "language": "python",
   "name": "python3"
  },
  "language_info": {
   "codemirror_mode": {
    "name": "ipython",
    "version": 3
   },
   "file_extension": ".py",
   "mimetype": "text/x-python",
   "name": "python",
   "nbconvert_exporter": "python",
   "pygments_lexer": "ipython3",
   "version": "3.8.10"
  }
 },
 "nbformat": 4,
 "nbformat_minor": 4
}
